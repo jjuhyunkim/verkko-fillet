{
 "cells": [
  {
   "cell_type": "code",
   "execution_count": 8,
   "id": "49e4bbfe-d729-462a-b533-59030f402b19",
   "metadata": {},
   "outputs": [
    {
     "data": {
      "text/plain": [
       "'/vf/users/Phillippy/projects/giraffeT2T/assembly/verkko2.2_hifi-duplex_trio-hic/verkko-thic_gapFilling_verkko_fillet'"
      ]
     },
     "execution_count": 8,
     "metadata": {},
     "output_type": "execute_result"
    }
   ],
   "source": [
    "import os \n",
    "verkkoDir=\"/data/Phillippy/projects/giraffeT2T/assembly/verkko2.2_hifi-duplex_trio-hic/verkko-thic_gapFilling/\"\n",
    "# verkkoDir"
   ]
  },
  {
   "cell_type": "code",
   "execution_count": null,
   "id": "96ae78d8-1c03-49f7-bb63-f66546e1d93e",
   "metadata": {},
   "outputs": [],
   "source": [
    "history"
   ]
  },
  {
   "cell_type": "code",
   "execution_count": 10,
   "id": "dc0024c9-4540-437b-a30c-181c460ad562",
   "metadata": {},
   "outputs": [],
   "source": [
    "%load_ext autoreload\n",
    "%autoreload 2"
   ]
  },
  {
   "cell_type": "code",
   "execution_count": 13,
   "id": "acf7ce44-6d78-484c-af38-83ffcf4f8773",
   "metadata": {},
   "outputs": [
    {
     "data": {
      "text/plain": [
       "<module 'post_verkko' from '/vf/users/Phillippy/projects/giraffeT2T/assembly/script/post_verkko_pkg/src/post_verkko/__init__.py'>"
      ]
     },
     "execution_count": 13,
     "metadata": {},
     "output_type": "execute_result"
    }
   ],
   "source": [
    "import sys\n",
    "sys.path.append(\"/vf/users/Phillippy/projects/giraffeT2T/assembly/script/post_verkko_pkg/src/\")\n",
    "# import post_verkko as pv\n",
    "import post_verkko as pv\n",
    "import importlib\n",
    "\n",
    "importlib.reload(pv)"
   ]
  },
  {
   "cell_type": "code",
   "execution_count": 14,
   "id": "037a9f9a-6269-4dce-b57d-07041451c3a8",
   "metadata": {},
   "outputs": [
    {
     "name": "stdout",
     "output_type": "stream",
     "text": [
      "Loading Verkko file object from my_class.pkl...\n",
      "Error loading the file: No module named 'post_verkko.preprocessing._read_verkko_obj'\n"
     ]
    }
   ],
   "source": [
    "load_Verkko(fileName)"
   ]
  },
  {
   "cell_type": "code",
   "execution_count": null,
   "id": "34053c00-6325-469e-ba96-8bca3b47a8df",
   "metadata": {},
   "outputs": [],
   "source": []
  }
 ],
 "metadata": {
  "kernelspec": {
   "display_name": "plot_python",
   "language": "python",
   "name": "plot_python"
  },
  "language_info": {
   "codemirror_mode": {
    "name": "ipython",
    "version": 3
   },
   "file_extension": ".py",
   "mimetype": "text/x-python",
   "name": "python",
   "nbconvert_exporter": "python",
   "pygments_lexer": "ipython3",
   "version": "3.9.17"
  }
 },
 "nbformat": 4,
 "nbformat_minor": 5
}
